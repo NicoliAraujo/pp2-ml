{
 "cells": [
  {
   "cell_type": "code",
   "execution_count": 1,
   "metadata": {
    "collapsed": true
   },
   "outputs": [],
   "source": [
    "import pandas as pd\n",
    "\n",
    "from sklearn.metrics import f1_score, accuracy_score, confusion_matrix\n",
    "from sklearn.model_selection import cross_val_score, cross_val_predict\n",
    "from sklearn.ensemble import AdaBoostClassifier\n",
    "from sklearn.model_selection import train_test_split\n",
    "from sklearn.tree import DecisionTreeClassifier\n",
    "import time"
   ]
  },
  {
   "cell_type": "code",
   "execution_count": 2,
   "metadata": {
    "collapsed": true
   },
   "outputs": [],
   "source": [
    "df_wines = pd.read_csv('completoWine.csv')"
   ]
  },
  {
   "cell_type": "code",
   "execution_count": 3,
   "metadata": {},
   "outputs": [
    {
     "name": "stderr",
     "output_type": "stream",
     "text": [
      "/usr/local/lib/python3.5/dist-packages/sklearn/model_selection/_split.py:2010: FutureWarning: From version 0.21, test_size will always complement train_size unless both are specified.\n",
      "  FutureWarning)\n"
     ]
    }
   ],
   "source": [
    "X = df_wines.drop('quality', axis=1)\n",
    "Y = df_wines.quality\n",
    "\n",
    "X_train, X_test, Y_train, Y_test = train_test_split(X, Y, train_size=0.8)"
   ]
  },
  {
   "cell_type": "code",
   "execution_count": 31,
   "metadata": {
    "collapsed": true
   },
   "outputs": [],
   "source": [
    "MAX_DEPTH = 50\n",
    "MIN_SAMPLES_SPLIT = 4\n",
    "MIN_SAMPLES_LEAF = 4\n",
    "MAX_FEATURES = 6\n",
    "N_ESTIMATORS=200"
   ]
  },
  {
   "cell_type": "code",
   "execution_count": 32,
   "metadata": {},
   "outputs": [
    {
     "name": "stdout",
     "output_type": "stream",
     "text": [
      "4 4 6 200 0.6482608982184889 0.5376923076923077\n"
     ]
    }
   ],
   "source": [
    "decision_tree_classifier=DecisionTreeClassifier(max_depth=MAX_DEPTH, \n",
    "                                                min_samples_split=MIN_SAMPLES_SPLIT, \n",
    "                                                max_features=MAX_FEATURES, \n",
    "                                                min_samples_leaf=MIN_SAMPLES_LEAF, \n",
    "                                                criterion='entropy', presort=True)\n",
    "clf = AdaBoostClassifier(n_estimators=N_ESTIMATORS, learning_rate=0.01, base_estimator=decision_tree_classifier, algorithm='SAMME')\n",
    "scores_train = cross_val_score(clf, X_train, Y_train, scoring='f1_micro', cv=3)\n",
    "\n",
    "Y_predict = cross_val_predict(clf, X_test, Y_test, cv=3)\n",
    "f1_score_test = f1_score(Y_test, Y_predict, average='micro')\n",
    "print(MIN_SAMPLES_SPLIT, MIN_SAMPLES_LEAF, MAX_FEATURES, N_ESTIMATORS, f1_score_test)"
   ]
  },
  {
   "cell_type": "code",
   "execution_count": null,
   "metadata": {
    "collapsed": true
   },
   "outputs": [],
   "source": []
  }
 ],
 "metadata": {
  "kernelspec": {
   "display_name": "Python 3",
   "language": "python",
   "name": "python3"
  },
  "language_info": {
   "codemirror_mode": {
    "name": "ipython",
    "version": 3
   },
   "file_extension": ".py",
   "mimetype": "text/x-python",
   "name": "python",
   "nbconvert_exporter": "python",
   "pygments_lexer": "ipython3",
   "version": "3.5.2"
  }
 },
 "nbformat": 4,
 "nbformat_minor": 2
}
