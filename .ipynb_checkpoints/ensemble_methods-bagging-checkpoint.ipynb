{
 "cells": [
  {
   "cell_type": "code",
   "execution_count": 1,
   "metadata": {
    "collapsed": true
   },
   "outputs": [],
   "source": [
    "import pandas as pd"
   ]
  },
  {
   "cell_type": "code",
   "execution_count": 2,
   "metadata": {
    "collapsed": true
   },
   "outputs": [],
   "source": [
    "from sklearn.metrics import f1_score, accuracy_score, confusion_matrix\n",
    "from sklearn.model_selection import cross_val_score, cross_val_predict\n",
    "from sklearn.ensemble import AdaBoostClassifier, BaggingClassifier\n",
    "from sklearn.model_selection import train_test_split\n",
    "from sklearn.tree import DecisionTreeClassifier\n",
    "import time"
   ]
  },
  {
   "cell_type": "code",
   "execution_count": 3,
   "metadata": {
    "collapsed": true
   },
   "outputs": [],
   "source": [
    "df_wines = pd.read_csv('completoWine.csv')"
   ]
  },
  {
   "cell_type": "code",
   "execution_count": 4,
   "metadata": {},
   "outputs": [
    {
     "name": "stderr",
     "output_type": "stream",
     "text": [
      "/usr/local/lib/python3.5/dist-packages/sklearn/model_selection/_split.py:2010: FutureWarning: From version 0.21, test_size will always complement train_size unless both are specified.\n",
      "  FutureWarning)\n"
     ]
    }
   ],
   "source": [
    "X = df_wines.drop('quality', axis=1)\n",
    "Y = df_wines.quality\n",
    "\n",
    "X_train, X_test, Y_train, Y_test = train_test_split(X, Y, train_size=0.9)"
   ]
  },
  {
   "cell_type": "code",
   "execution_count": 5,
   "metadata": {},
   "outputs": [
    {
     "data": {
      "text/plain": [
       "quality\n",
       "3      30\n",
       "4     216\n",
       "5    2138\n",
       "6    2836\n",
       "7    1079\n",
       "8     193\n",
       "9       5\n",
       "dtype: int64"
      ]
     },
     "execution_count": 5,
     "metadata": {},
     "output_type": "execute_result"
    }
   ],
   "source": [
    "df_wines.groupby('quality').size()"
   ]
  },
  {
   "cell_type": "code",
   "execution_count": 6,
   "metadata": {
    "collapsed": true
   },
   "outputs": [],
   "source": [
    "df_scores = pd.DataFrame({})\n",
    "models = []"
   ]
  },
  {
   "cell_type": "code",
   "execution_count": 7,
   "metadata": {
    "collapsed": true
   },
   "outputs": [],
   "source": [
    "#MAX_DEPTH = 50\n",
    "MIN_SAMPLES_SPLIT = [2,4,8,12]\n",
    "MIN_SAMPLES_LEAF = [2,4,8]\n",
    "MAX_FEATURES = [2,4,6,8,10,12,13]\n",
    "N_ESTIMATORS=[100,300,500,700,800,900]"
   ]
  },
  {
   "cell_type": "code",
   "execution_count": null,
   "metadata": {
    "scrolled": true
   },
   "outputs": [
    {
     "name": "stdout",
     "output_type": "stream",
     "text": [
      "2 2 2 100 0.6529912516588182 0.5353846153846153\n",
      "2 2 2 300 0.6559076851767078 0.536923076923077\n",
      "2 2 2 500 0.6524844861566933 0.5415384615384615\n",
      "2 2 2 700 0.6569277955408217 0.5353846153846153\n",
      "2 2 2 800 0.6552238348958886 0.54\n",
      "2 2 2 900 0.6572751155942336 0.5507692307692308\n",
      "2 2 4 100 0.6512891366384629 0.54\n",
      "2 2 4 300 0.653510659094984 0.5384615384615384\n",
      "2 2 4 500 0.654364220570942 0.54\n",
      "2 2 4 700 0.6557329676708729 0.5353846153846153\n",
      "2 2 4 800 0.657611382160987 0.5353846153846153\n"
     ]
    }
   ],
   "source": [
    "for min_samples_split in MIN_SAMPLES_SPLIT:\n",
    "    for min_samples_leaf in MIN_SAMPLES_LEAF:\n",
    "        for max_feature in MAX_FEATURES:\n",
    "            for n_estimators in N_ESTIMATORS:\n",
    "                start = time.clock()\n",
    "                decision_tree_classifier=DecisionTreeClassifier(max_depth=MAX_DEPTH, min_samples_split=min_samples_split, max_features=max_feature, min_samples_leaf=min_samples_leaf, criterion='entropy')\n",
    "                clf = BaggingClassifier(n_estimators=n_estimators, warm_start=True, base_estimator=decision_tree_classifier, algorithm='SAMME')\n",
    "                scores_train = cross_val_score(clf, X_train, Y_train, scoring='f1_micro', cv=3)\n",
    "                end = time.clock()\n",
    "                models.append(clf)\n",
    "                Y_predict = cross_val_predict(clf, X_test, Y_test, cv=3)\n",
    "                f1_score_test = f1_score(Y_test, Y_predict, average='micro')\n",
    "                print(min_samples_split, min_samples_leaf, max_feature, n_estimators, scores_train.mean(), f1_score_test)\n",
    "                df_scores = df_scores.append({'time': start-end,\n",
    "                                              'min_samples_leaf': min_samples_leaf,\n",
    "                                              'min_samples_split': min_samples_split,\n",
    "                                              'max_feature': max_feature,\n",
    "                                              'n_estimators': n_estimators,\n",
    "                                              'f1_micro_mean_train': scores_train.mean(),\n",
    "                                              'f1_micro_mean_test': f1_score_test,\n",
    "                                              'f1_micro_std_train': scores_train.std()}, \n",
    "                                             ignore_index=True)\n",
    "                                "
   ]
  },
  {
   "cell_type": "code",
   "execution_count": null,
   "metadata": {
    "scrolled": true
   },
   "outputs": [],
   "source": [
    "df_scores.sort_values('f1_micro_mean_test', ascending=False)"
   ]
  },
  {
   "cell_type": "code",
   "execution_count": 15,
   "metadata": {
    "collapsed": true
   },
   "outputs": [],
   "source": [
    "decision_tree_classifier=DecisionTreeClassifier(max_depth=100, min_samples_split=6, min_samples_leaf=6, criterion='entropy')"
   ]
  },
  {
   "cell_type": "code",
   "execution_count": 20,
   "metadata": {
    "collapsed": true
   },
   "outputs": [],
   "source": [
    "clf = AdaBoostClassifier(n_estimators=200, learning_rate=0.01, base_estimator=decision_tree_classifier, algorithm='SAMME')\n",
    "\n",
    "#clf.fit(X_train, Y_train)\n",
    "\n",
    "#Y_predict = clf.predict(X_test)\n",
    "\n",
    "#f1_score(Y_test, Y_predict, average='micro')"
   ]
  },
  {
   "cell_type": "code",
   "execution_count": 21,
   "metadata": {},
   "outputs": [
    {
     "data": {
      "text/plain": [
       "0.6239098489561236"
      ]
     },
     "execution_count": 21,
     "metadata": {},
     "output_type": "execute_result"
    }
   ],
   "source": [
    "scores = cross_val_score(clf, X_train, Y_train, scoring='f1_micro', cv=3)\n",
    "scores.mean()"
   ]
  },
  {
   "cell_type": "code",
   "execution_count": 10,
   "metadata": {},
   "outputs": [
    {
     "name": "stderr",
     "output_type": "stream",
     "text": [
      "/usr/local/lib/python3.5/dist-packages/sklearn/model_selection/_split.py:597: Warning: The least populated class in y has only 2 members, which is too few. The minimum number of members in any class cannot be less than n_splits=3.\n",
      "  % (min_groups, self.n_splits)), Warning)\n"
     ]
    }
   ],
   "source": [
    "Y_predict = cross_val_predict(clf, X_test, Y_test, cv=3)"
   ]
  },
  {
   "cell_type": "code",
   "execution_count": 12,
   "metadata": {},
   "outputs": [
    {
     "data": {
      "text/plain": [
       "0.49538461538461537"
      ]
     },
     "execution_count": 12,
     "metadata": {},
     "output_type": "execute_result"
    }
   ],
   "source": [
    "f1_score(Y_test, Y_predict, average='micro')"
   ]
  },
  {
   "cell_type": "code",
   "execution_count": 14,
   "metadata": {},
   "outputs": [
    {
     "data": {
      "text/plain": [
       "array([[  0,   0,   1,   2,   0,   0,   0],\n",
       "       [  0,   0,   7,   7,   0,   0,   0],\n",
       "       [  0,   1, 105,  90,   8,   0,   0],\n",
       "       [  0,   3,  65, 185,  38,   5,   1],\n",
       "       [  0,   0,   7,  75,  27,   0,   0],\n",
       "       [  0,   0,   0,  10,   6,   5,   0],\n",
       "       [  0,   0,   0,   2,   0,   0,   0]])"
      ]
     },
     "execution_count": 14,
     "metadata": {},
     "output_type": "execute_result"
    }
   ],
   "source": [
    "confusion_matrix(Y_test, Y_predict)"
   ]
  },
  {
   "cell_type": "code",
   "execution_count": 269,
   "metadata": {},
   "outputs": [
    {
     "ename": "AttributeError",
     "evalue": "'AdaBoostClassifier' object has no attribute 'classes_'",
     "output_type": "error",
     "traceback": [
      "\u001b[0;31m---------------------------------------------------------------------------\u001b[0m",
      "\u001b[0;31mAttributeError\u001b[0m                            Traceback (most recent call last)",
      "\u001b[0;32m<ipython-input-269-e05d325a18fe>\u001b[0m in \u001b[0;36m<module>\u001b[0;34m()\u001b[0m\n\u001b[0;32m----> 1\u001b[0;31m \u001b[0mclf\u001b[0m\u001b[0;34m.\u001b[0m\u001b[0mclasses_\u001b[0m\u001b[0;34m\u001b[0m\u001b[0m\n\u001b[0m",
      "\u001b[0;31mAttributeError\u001b[0m: 'AdaBoostClassifier' object has no attribute 'classes_'"
     ]
    }
   ],
   "source": [
    "clf.classes_"
   ]
  },
  {
   "cell_type": "code",
   "execution_count": 209,
   "metadata": {},
   "outputs": [
    {
     "data": {
      "text/plain": [
       "array([ 0.05966777,  0.07152935,  0.09708522,  0.06851571,  0.07382377,\n",
       "        0.07950466,  0.10435181,  0.08513251,  0.06454349,  0.07548736,\n",
       "        0.080881  ,  0.13813066,  0.00134668])"
      ]
     },
     "execution_count": 209,
     "metadata": {},
     "output_type": "execute_result"
    }
   ],
   "source": [
    "clf.feature_importances_"
   ]
  },
  {
   "cell_type": "code",
   "execution_count": 202,
   "metadata": {},
   "outputs": [
    {
     "data": {
      "text/plain": [
       "[24,\n",
       " 23,\n",
       " 23,\n",
       " 23,\n",
       " 22,\n",
       " 26,\n",
       " 22,\n",
       " 24,\n",
       " 23,\n",
       " 22,\n",
       " 22,\n",
       " 21,\n",
       " 24,\n",
       " 24,\n",
       " 24,\n",
       " 23,\n",
       " 23,\n",
       " 24,\n",
       " 22,\n",
       " 22,\n",
       " 24,\n",
       " 22,\n",
       " 23,\n",
       " 22,\n",
       " 23,\n",
       " 21,\n",
       " 25,\n",
       " 26,\n",
       " 26,\n",
       " 26,\n",
       " 30,\n",
       " 30,\n",
       " 30,\n",
       " 24,\n",
       " 22,\n",
       " 22,\n",
       " 22,\n",
       " 23,\n",
       " 22,\n",
       " 23,\n",
       " 22,\n",
       " 25,\n",
       " 22,\n",
       " 21,\n",
       " 24,\n",
       " 22,\n",
       " 23,\n",
       " 26,\n",
       " 25,\n",
       " 22,\n",
       " 29,\n",
       " 29,\n",
       " 23,\n",
       " 29,\n",
       " 29,\n",
       " 29,\n",
       " 26,\n",
       " 29,\n",
       " 28,\n",
       " 29,\n",
       " 28,\n",
       " 25,\n",
       " 30,\n",
       " 21,\n",
       " 23,\n",
       " 22,\n",
       " 22,\n",
       " 25,\n",
       " 21,\n",
       " 22,\n",
       " 26,\n",
       " 29,\n",
       " 26,\n",
       " 22,\n",
       " 27,\n",
       " 22,\n",
       " 26,\n",
       " 23,\n",
       " 23,\n",
       " 23,\n",
       " 26,\n",
       " 22,\n",
       " 22,\n",
       " 22,\n",
       " 22,\n",
       " 22,\n",
       " 23,\n",
       " 28,\n",
       " 27,\n",
       " 22,\n",
       " 22,\n",
       " 24,\n",
       " 25,\n",
       " 25,\n",
       " 23,\n",
       " 28,\n",
       " 22,\n",
       " 24,\n",
       " 21,\n",
       " 23,\n",
       " 28,\n",
       " 28,\n",
       " 29,\n",
       " 29,\n",
       " 21,\n",
       " 28,\n",
       " 27,\n",
       " 27,\n",
       " 27,\n",
       " 27,\n",
       " 25,\n",
       " 26,\n",
       " 26,\n",
       " 26,\n",
       " 25,\n",
       " 25,\n",
       " 28,\n",
       " 25,\n",
       " 26,\n",
       " 27,\n",
       " 27,\n",
       " 27,\n",
       " 27,\n",
       " 27,\n",
       " 27,\n",
       " 31,\n",
       " 27,\n",
       " 27,\n",
       " 27,\n",
       " 30,\n",
       " 27,\n",
       " 27,\n",
       " 27,\n",
       " 27,\n",
       " 27,\n",
       " 27,\n",
       " 27,\n",
       " 24,\n",
       " 26,\n",
       " 25,\n",
       " 26,\n",
       " 25,\n",
       " 28,\n",
       " 26,\n",
       " 26,\n",
       " 27,\n",
       " 26,\n",
       " 27,\n",
       " 27,\n",
       " 23,\n",
       " 29,\n",
       " 29,\n",
       " 32,\n",
       " 29,\n",
       " 32,\n",
       " 26,\n",
       " 25,\n",
       " 25,\n",
       " 25,\n",
       " 27,\n",
       " 26,\n",
       " 26,\n",
       " 27,\n",
       " 27,\n",
       " 26,\n",
       " 27,\n",
       " 26,\n",
       " 29,\n",
       " 28,\n",
       " 26,\n",
       " 23,\n",
       " 26,\n",
       " 23,\n",
       " 24,\n",
       " 23,\n",
       " 24,\n",
       " 24,\n",
       " 26,\n",
       " 23,\n",
       " 25,\n",
       " 23,\n",
       " 23,\n",
       " 24,\n",
       " 24,\n",
       " 24,\n",
       " 25,\n",
       " 29,\n",
       " 25,\n",
       " 29,\n",
       " 29,\n",
       " 25,\n",
       " 26,\n",
       " 26,\n",
       " 27,\n",
       " 25,\n",
       " 27,\n",
       " 24,\n",
       " 27,\n",
       " 27,\n",
       " 27,\n",
       " 22,\n",
       " 22,\n",
       " 29,\n",
       " 27,\n",
       " 27,\n",
       " 27,\n",
       " 25,\n",
       " 26,\n",
       " 25,\n",
       " 27,\n",
       " 28,\n",
       " 28,\n",
       " 24,\n",
       " 24,\n",
       " 30,\n",
       " 25,\n",
       " 25,\n",
       " 26,\n",
       " 34,\n",
       " 34,\n",
       " 34,\n",
       " 32,\n",
       " 32,\n",
       " 29,\n",
       " 31,\n",
       " 31,\n",
       " 30,\n",
       " 31,\n",
       " 34,\n",
       " 28,\n",
       " 25,\n",
       " 30,\n",
       " 25,\n",
       " 30,\n",
       " 29,\n",
       " 25,\n",
       " 27,\n",
       " 27,\n",
       " 24,\n",
       " 28,\n",
       " 28,\n",
       " 27,\n",
       " 27,\n",
       " 27,\n",
       " 27,\n",
       " 27,\n",
       " 32,\n",
       " 30,\n",
       " 25,\n",
       " 30,\n",
       " 25,\n",
       " 27,\n",
       " 27,\n",
       " 25,\n",
       " 25,\n",
       " 25,\n",
       " 32,\n",
       " 23,\n",
       " 26,\n",
       " 30,\n",
       " 24,\n",
       " 24,\n",
       " 24,\n",
       " 24,\n",
       " 27,\n",
       " 25,\n",
       " 27,\n",
       " 26,\n",
       " 27,\n",
       " 26,\n",
       " 26,\n",
       " 25,\n",
       " 26,\n",
       " 25,\n",
       " 26,\n",
       " 29,\n",
       " 29,\n",
       " 24,\n",
       " 25,\n",
       " 25,\n",
       " 25,\n",
       " 24,\n",
       " 24,\n",
       " 24,\n",
       " 27,\n",
       " 28,\n",
       " 27,\n",
       " 31,\n",
       " 31,\n",
       " 24,\n",
       " 24,\n",
       " 26,\n",
       " 23,\n",
       " 24,\n",
       " 24,\n",
       " 24,\n",
       " 23,\n",
       " 23,\n",
       " 25,\n",
       " 25,\n",
       " 29,\n",
       " 27,\n",
       " 29,\n",
       " 27,\n",
       " 25,\n",
       " 25,\n",
       " 25,\n",
       " 29,\n",
       " 28,\n",
       " 29,\n",
       " 28,\n",
       " 28,\n",
       " 28,\n",
       " 28,\n",
       " 29,\n",
       " 28,\n",
       " 29,\n",
       " 27,\n",
       " 30,\n",
       " 28,\n",
       " 28,\n",
       " 30,\n",
       " 27,\n",
       " 25,\n",
       " 26,\n",
       " 26,\n",
       " 27,\n",
       " 25,\n",
       " 26,\n",
       " 26,\n",
       " 27,\n",
       " 28,\n",
       " 25,\n",
       " 25,\n",
       " 26,\n",
       " 27,\n",
       " 26,\n",
       " 28,\n",
       " 26,\n",
       " 27,\n",
       " 25,\n",
       " 25,\n",
       " 24,\n",
       " 27,\n",
       " 25,\n",
       " 32,\n",
       " 25,\n",
       " 24,\n",
       " 28,\n",
       " 32,\n",
       " 32,\n",
       " 29,\n",
       " 31,\n",
       " 32,\n",
       " 30,\n",
       " 30,\n",
       " 28,\n",
       " 31,\n",
       " 32,\n",
       " 28,\n",
       " 26,\n",
       " 27,\n",
       " 27,\n",
       " 27,\n",
       " 26,\n",
       " 28,\n",
       " 26,\n",
       " 27,\n",
       " 29,\n",
       " 29,\n",
       " 29,\n",
       " 26,\n",
       " 35,\n",
       " 33,\n",
       " 29,\n",
       " 30,\n",
       " 30,\n",
       " 29,\n",
       " 29,\n",
       " 27,\n",
       " 33,\n",
       " 25,\n",
       " 27,\n",
       " 33,\n",
       " 25,\n",
       " 33,\n",
       " 29,\n",
       " 25,\n",
       " 29,\n",
       " 29,\n",
       " 26,\n",
       " 28,\n",
       " 28,\n",
       " 27,\n",
       " 29,\n",
       " 24,\n",
       " 29,\n",
       " 29,\n",
       " 25,\n",
       " 28]"
      ]
     },
     "execution_count": 202,
     "metadata": {},
     "output_type": "execute_result"
    }
   ],
   "source": [
    "[clf.tree_.max_depth for clf in clf.estimators_]"
   ]
  },
  {
   "cell_type": "code",
   "execution_count": null,
   "metadata": {
    "collapsed": true
   },
   "outputs": [],
   "source": [
    "clf.estimators"
   ]
  }
 ],
 "metadata": {
  "kernelspec": {
   "display_name": "Python 3",
   "language": "python",
   "name": "python3"
  },
  "language_info": {
   "codemirror_mode": {
    "name": "ipython",
    "version": 3
   },
   "file_extension": ".py",
   "mimetype": "text/x-python",
   "name": "python",
   "nbconvert_exporter": "python",
   "pygments_lexer": "ipython3",
   "version": "3.5.2"
  }
 },
 "nbformat": 4,
 "nbformat_minor": 2
}
